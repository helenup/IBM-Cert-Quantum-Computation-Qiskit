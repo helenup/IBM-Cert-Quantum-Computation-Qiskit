{
 "cells": [
  {
   "cell_type": "markdown",
   "id": "8ee206b8",
   "metadata": {},
   "source": [
    "### IBM Qiskit Certification"
   ]
  },
  {
   "cell_type": "code",
   "execution_count": 1,
   "id": "3a95b268",
   "metadata": {},
   "outputs": [],
   "source": [
    "from IPython.display import Image\n",
    "import numpy \n",
    "from math import *\n",
    "from qiskit import *\n",
    "from qiskit.visualization import *\n",
    "from qiskit import BasicAer\n",
    "from qiskit.circuit.library import XGate\n",
    "from qiskit import QuantumCircuit, QuantumRegister ,ClassicalRegister, execute \n",
    "from qiskit.quantum_info import Operator, Statevector, state_fidelity, process_fidelity, average_gate_fidelity"
   ]
  },
  {
   "cell_type": "markdown",
   "id": "d24694f1",
   "metadata": {},
   "source": [
    "#### 1. Which statement will create a quantum circuit with four quantum bits and four classical bits?\n"
   ]
  },
  {
   "cell_type": "code",
   "execution_count": 3,
   "id": "41481809",
   "metadata": {},
   "outputs": [
    {
     "data": {
      "image/png": "[encoded data removed]",
      "text/plain": [
       "<Figure size 116.697x325.08 with 1 Axes>"
      ]
     },
     "execution_count": 3,
     "metadata": {},
     "output_type": "execute_result"
    }
   ],
   "source": [
    "# A. QuantumCircuit(4, 4)\n",
    "# B. QuantumCircuit(4)\n",
    "# C. QuantumCircuit(QuantumRegister(4, 'qr0'),\n",
    "# QuantumRegister(4, 'cr1'))\n",
    "# D. QuantumCircuit([4, 4])\n",
    "\n",
    "qc = QuantumCircuit(4,4)\n",
    "qc.draw('mpl')\n",
    "\n",
    "\n",
    "# The correct answer is A"
   ]
  },
  {
   "cell_type": "markdown",
   "id": "83d4ea9f",
   "metadata": {},
   "source": [
    "#### 2. Given this code fragment, what is the probability that a measurement would result in |0> ?"
   ]
  },
  {
   "cell_type": "code",
   "execution_count": 4,
   "id": "ec9a4ce3",
   "metadata": {},
   "outputs": [
    {
     "name": "stdout",
     "output_type": "stream",
     "text": [
      "Statevector([0.38268343+0.j, 0.92387953+0.j],\n",
      "            dims=(2,))\n",
      "Probabilities:\t(0.1464466094067263+0j)\n"
     ]
    }
   ],
   "source": [
    "qc1 = QuantumCircuit(1,1)\n",
    "qc1.ry(3 * math.pi/4, 0)\n",
    "\n",
    "\n",
    "job = execute(qc1, Aer.get_backend(\"statevector_simulator\"), seed_simulator=42)\n",
    "result = job.result()\n",
    "counts= result.get_counts(qc1)\n",
    "statevector=result.get_statevector(qc1)\n",
    "print(statevector)\n",
    "prob_0 = statevector[0]**2\n",
    "print(f\"Probabilities:\\t{prob_0}\")\n",
    "\n",
    "#The correct answer is c"
   ]
  },
  {
   "cell_type": "markdown",
   "id": "fe7ac9dc",
   "metadata": {},
   "source": [
    "#### 3. Assuming the fragment below, which three code fragments would produce the circuit illustrated?"
   ]
  },
  {
   "cell_type": "code",
   "execution_count": 5,
   "id": "9b330c3e",
   "metadata": {},
   "outputs": [
    {
     "data": {
      "image/png": "[encoded data removed]",
      "text/plain": [
       "<Figure size 406.636x204.68 with 1 Axes>"
      ]
     },
     "execution_count": 5,
     "metadata": {},
     "output_type": "execute_result"
    }
   ],
   "source": [
    "inp_reg = QuantumRegister(2, name='inp')\n",
    "ancilla = QuantumRegister(1, name='anc')\n",
    "qc = QuantumCircuit(inp_reg, ancilla)\n",
    "\n",
    "\n",
    "qc.h(inp_reg)\n",
    "qc.x(ancilla)\n",
    "qc.draw('mpl')\n",
    "\n",
    "qc.barrier()\n",
    "\n",
    "qc.h(inp_reg[0:2])\n",
    "qc.x(ancilla[0])\n",
    "qc.draw('mpl')\n",
    "\n",
    "qc.barrier()\n",
    "\n",
    "qc.h(inp_reg[0])\n",
    "qc.h(inp_reg[1])\n",
    "qc.x(ancilla[0])\n",
    "qc.draw('mpl')\n",
    "\n",
    "# A), B) and D) are possible solutions"
   ]
  },
  {
   "cell_type": "markdown",
   "id": "3141e1ed",
   "metadata": {},
   "source": [
    "#### 4. Given an empty QuantumCircuit object, qc, with three qubits and three classical bits, which one of these code fragments would create this circuit?"
   ]
  },
  {
   "cell_type": "code",
   "execution_count": 14,
   "id": "f03ef98f",
   "metadata": {},
   "outputs": [
    {
     "data": {
      "text/html": [
       "<img src=\"measures.jpg\" width=\"300\" height=\"300\"/>"
      ],
      "text/plain": [
       "<IPython.core.display.Image object>"
      ]
     },
     "execution_count": 14,
     "metadata": {},
     "output_type": "execute_result"
    }
   ],
   "source": [
    "Image(url=\"measures.jpg\", width=300, height=300)"
   ]
  },
  {
   "cell_type": "code",
   "execution_count": 23,
   "id": "303890b5",
   "metadata": {},
   "outputs": [
    {
     "data": {
      "image/png": "[encoded data removed]",
      "text/plain": [
       "<Figure size 267.197x264.88 with 1 Axes>"
      ]
     },
     "execution_count": 23,
     "metadata": {},
     "output_type": "execute_result"
    }
   ],
   "source": [
    "# A. qc.measure([0,1,2], [0,1,2])\n",
    "# B. qc.measure([0,0], [1,1], [2,2])\n",
    "# C. qc.measure_all()\n",
    "# D. qc.measure(0,1,2)\n",
    "\n",
    "qc4 = QuantumCircuit(3,3)\n",
    "\n",
    "#qc4.measure_all() #add barries\n",
    "qc4.measure([0,1,2], [0,1,2])\n",
    "#qc4.measure([0,0], [1,1], [2,2]) #error\n",
    "#qc4.measure(0,1,2) # error\n",
    "qc4.draw('mpl')\n",
    "\n",
    "#The correct answer is A"
   ]
  },
  {
   "cell_type": "markdown",
   "id": "e991e8c7",
   "metadata": {},
   "source": [
    "#### 5.Which code fragment will produce a maximally entangled, or Bell, state?"
   ]
  },
  {
   "cell_type": "code",
   "execution_count": 44,
   "id": "2e15e7aa",
   "metadata": {},
   "outputs": [
    {
     "name": "stdout",
     "output_type": "stream",
     "text": [
      "5\n"
     ]
    },
    {
     "data": {
      "image/png": "[encoded data removed]",
      "text/plain": [
       "<Figure size 417.879x204.68 with 1 Axes>"
      ]
     },
     "execution_count": 44,
     "metadata": {},
     "output_type": "execute_result"
    }
   ],
   "source": [
    "# A. bell = QuantumCircuit(2)\n",
    "# bell.h(0)\n",
    "# bell.x(1)\n",
    "# bell.cx(0, 1)\n",
    "# B. bell = QuantumCircuit(2)\n",
    "# bell.cx(0, 1)\n",
    "# bell.h(0)\n",
    "# bell.x(1)\n",
    "# C. bell = QuantumCircuit(2)\n",
    "# bell.h(0)\n",
    "# bell.x(1)\n",
    "# bell.cz(0, 1)\n",
    "# D. bell = QuantumCircuit(2)\n",
    "# bell.h(0)\n",
    "# bell.h(0)\n",
    "\n",
    "bell = QuantumCircuit(2)\n",
    "bell.h(0)\n",
    "bell.x(1)\n",
    "bell.cx(0, 1)\n",
    "bell.measure_all()\n",
    "\n",
    "print(bell.size())\n",
    "bell.draw('mpl')"
   ]
  },
  {
   "cell_type": "code",
   "execution_count": 34,
   "id": "6f23f1d9",
   "metadata": {},
   "outputs": [
    {
     "name": "stdout",
     "output_type": "stream",
     "text": [
      "{'01': 41, '10': 59}\n"
     ]
    }
   ],
   "source": [
    "job=execute(bell, Aer.get_backend(\"statevector_simulator\") , shots = 100)\n",
    "result = job.result()\n",
    "counts5= result.get_counts(bell)\n",
    "print(counts5)\n",
    "\n",
    "#The correct answer is A"
   ]
  },
  {
   "cell_type": "markdown",
   "id": "4623a05c",
   "metadata": {},
   "source": [
    "#### 6. Given this code, which two inserted code fragments result in the state vector represented by this Bloch sphere?"
   ]
  },
  {
   "cell_type": "code",
   "execution_count": 35,
   "id": "148bca88",
   "metadata": {},
   "outputs": [
    {
     "data": {
      "text/html": [
       "<img src=\"Bloch_quest6.jpg\" width=\"300\" height=\"300\"/>"
      ],
      "text/plain": [
       "<IPython.core.display.Image object>"
      ]
     },
     "execution_count": 35,
     "metadata": {},
     "output_type": "execute_result"
    }
   ],
   "source": [
    "Image(url=\"Bloch_quest6.jpg\", width=300, height=300)"
   ]
  },
  {
   "cell_type": "code",
   "execution_count": null,
   "id": "171f0acb",
   "metadata": {},
   "outputs": [],
   "source": [
    "# A. qc.h(0)\n",
    "# B. qc.rx(math.pi / 2, 0)\n",
    "# C. qc.ry(math.pi / 2, 0)\n",
    "# D. qc.rx(math.pi / 2, 0)\n",
    "# qc.rz(-math.pi / 2, 0)\n",
    "# E. qc.ry(math.pi, 0)"
   ]
  },
  {
   "cell_type": "code",
   "execution_count": 50,
   "id": "517f437f",
   "metadata": {},
   "outputs": [
    {
     "data": {
      "image/png": "[encoded data removed]",
      "text/plain": [
       "<Figure size 288x288 with 1 Axes>"
      ]
     },
     "execution_count": 50,
     "metadata": {},
     "output_type": "execute_result"
    }
   ],
   "source": [
    "qc6 = QuantumCircuit(1,1)\n",
    "# qc6.h(0)\n",
    "# qc6.ry(math.pi / 2, 0)\n",
    "\n",
    "simulator = Aer.get_backend('statevector_simulator')\n",
    "job6 = execute(qc6, simulator)\n",
    "result6 = job6.result()\n",
    "outputstate = result6.get_statevector(qc6)\n",
    "plot_bloch_multivector(outputstate)\n",
    "\n",
    "# A) and C) are possible solutions"
   ]
  },
  {
   "cell_type": "markdown",
   "id": "7c5902c6",
   "metadata": {},
   "source": [
    "#### 7.S-gate is a Qiskit phase gate with what value of the phase parameter?"
   ]
  },
  {
   "cell_type": "code",
   "execution_count": 51,
   "id": "dd9175a2",
   "metadata": {},
   "outputs": [],
   "source": [
    "# A. π/4\n",
    "# B. π/2\n",
    "# C. π/8\n",
    "# D. π"
   ]
  },
  {
   "cell_type": "code",
   "execution_count": 52,
   "id": "00a8bbf0",
   "metadata": {},
   "outputs": [],
   "source": [
    "#It induces a π/2 phase, and is sometimes called the P gate (phase), so the answer is B"
   ]
  },
  {
   "cell_type": "markdown",
   "id": "b46b1ba8",
   "metadata": {},
   "source": [
    "#### 8. Which two code fragments, when inserted into the code below, will produce the statevector shown in the output?"
   ]
  },
  {
   "cell_type": "code",
   "execution_count": null,
   "id": "a71cf77f",
   "metadata": {},
   "outputs": [],
   "source": [
    "# Output:\n",
    "# [0.707+0.j 0.+0.j 0.+0.j 0.707+0.j]\n",
    "\n",
    "# A. v = [1/sqrt(2), 0, 0, 1/sqrt(2)]\n",
    "# qc.initialize(v,[0,1])\n",
    "# B. qc.h(0)\n",
    "# qc.cx(0,1)\n",
    "# C. v1, v2 = [1,0], [0,1]\n",
    "# qc.initialize(v1,0)\n",
    "# qc.initialize(v2,1)\n",
    "# D. qc.cx(0,1)\n",
    "# qc.measure_all()\n",
    "# E. qc.h(0)\n",
    "# qc.h(1)\n",
    "# qc.measure_all()"
   ]
  },
  {
   "cell_type": "code",
   "execution_count": 63,
   "id": "b3fb94ce",
   "metadata": {},
   "outputs": [
    {
     "name": "stdout",
     "output_type": "stream",
     "text": [
      "Statevector([0.70710678+0.j, 0.        +0.j, 0.        +0.j,\n",
      "             0.70710678+0.j],\n",
      "            dims=(2, 2))\n"
     ]
    }
   ],
   "source": [
    "qc8 = QuantumCircuit(2)\n",
    "# qc8.h(0)\n",
    "# qc8.cx(0,1)\n",
    "v = [1/sqrt(2), 0, 0, 1/sqrt(2)]\n",
    "qc8.initialize(v,[0,1])\n",
    "\n",
    "simulator = Aer.get_backend('statevector_simulator')\n",
    "result8 = execute(qc8, simulator).result()\n",
    "statevector = result8.get_statevector()\n",
    "print(statevector)\n",
    "\n",
    "# A) and B) are possible solutions"
   ]
  },
  {
   "cell_type": "markdown",
   "id": "01446365",
   "metadata": {},
   "source": [
    "#### 9. Which code fragment will produce a multi-qubit gate other than a CNOT ?"
   ]
  },
  {
   "cell_type": "code",
   "execution_count": 66,
   "id": "2e34bea9",
   "metadata": {},
   "outputs": [
    {
     "data": {
      "image/png": "[encoded data removed]",
      "text/plain": [
       "<Figure size 146.652x144.48 with 1 Axes>"
      ]
     },
     "execution_count": 66,
     "metadata": {},
     "output_type": "execute_result"
    }
   ],
   "source": [
    "# A. qc.cx(0,1)\n",
    "# B. qc.cnot(0,1)\n",
    "# C. qc.mct([0],1)\n",
    "# D. qc.cz(0,1)\n",
    "\n",
    "qc9 = QuantumCircuit(2)\n",
    "qc9.cz([0],1)\n",
    "qc9.draw('mpl')\n",
    "\n",
    "# D is the solution, the rest are equivalent"
   ]
  },
  {
   "cell_type": "markdown",
   "id": "2db6222d",
   "metadata": {},
   "source": [
    "#### 10. Which code fragment will produce a multi-qubit gate other than a Toffoli?"
   ]
  },
  {
   "cell_type": "code",
   "execution_count": 71,
   "id": "38c76bf1",
   "metadata": {},
   "outputs": [
    {
     "data": {
      "image/png": "[encoded data removed]",
      "text/plain": [
       "<Figure size 146.797x204.68 with 1 Axes>"
      ]
     },
     "execution_count": 71,
     "metadata": {},
     "output_type": "execute_result"
    }
   ],
   "source": [
    "# A. qc.ccx(0,1,2)\n",
    "# B. qc.mct([0,1], 2)\n",
    "# C. from qiskit.circuit.library import CXGate\n",
    "# ccx = CXGate().control()\n",
    "# qc.append(ccx, [0,1,2])\n",
    "# D. qc.cry(0,1,2)\n",
    "\n",
    "qc10 = QuantumCircuit(3)\n",
    "from qiskit.circuit.library import CXGate\n",
    "qc10.cry(0,1,2)\n",
    "qc10.draw('mpl')\n",
    "\n",
    "# the answer is D"
   ]
  },
  {
   "cell_type": "markdown",
   "id": "ab3f79be",
   "metadata": {},
   "source": [
    "#### 11. Which two options would place a barrier across all qubits to the QuantumCircuit below?"
   ]
  },
  {
   "cell_type": "code",
   "execution_count": 12,
   "id": "cea484a9",
   "metadata": {},
   "outputs": [
    {
     "data": {
      "image/png": "[encoded data removed]",
      "text/plain": [
       "<Figure size 146.797x264.88 with 1 Axes>"
      ]
     },
     "execution_count": 12,
     "metadata": {},
     "output_type": "execute_result"
    }
   ],
   "source": [
    "qc11 = QuantumCircuit(3,3)\n",
    "# qc11.barrier(qc11)\n",
    "# qc11.barrier([0,1,2]) 1st option\n",
    "qc11.barrier() #2nd option\n",
    "# qc11.barrier(3)\n",
    "# qc11.barrier_all()\n",
    "\n",
    "qc11.draw('mpl')\n",
    "\n",
    "# B and C are the solutions"
   ]
  },
  {
   "cell_type": "markdown",
   "id": "f4927193",
   "metadata": {},
   "source": [
    "#### 12. What code fragment codes the equivalent circuit if you remove the barrier in the following QuantumCircuit?"
   ]
  },
  {
   "cell_type": "code",
   "execution_count": 13,
   "id": "1c431877",
   "metadata": {},
   "outputs": [
    {
     "data": {
      "text/html": [
       "<img src=\"q_12.jpg\" width=\"300\" height=\"300\"/>"
      ],
      "text/plain": [
       "<IPython.core.display.Image object>"
      ]
     },
     "execution_count": 13,
     "metadata": {},
     "output_type": "execute_result"
    }
   ],
   "source": [
    "Image(url=\"q_12.jpg\", width=300, height=300)"
   ]
  },
  {
   "cell_type": "code",
   "execution_count": null,
   "id": "9a3f978e",
   "metadata": {},
   "outputs": [],
   "source": [
    "# A. qc = QuantumCircuit(1,1)\n",
    "# qc.h(0)\n",
    "# qc.s(0)\n",
    "# qc.h(0)\n",
    "# qc.measure(0,0)\n",
    "# B. qc = QuantumCircuit(1,1)\n",
    "# qc.measure(0,0)\n",
    "# C. qc = QuantumCircuit(1,1)\n",
    "# qc.h(0)\n",
    "# qc.t(0)\n",
    "# qc.tdg(0)\n",
    "# qc.h(0)\n",
    "# qc.measure(0,0)\n",
    "# D. qc = QuantumCircuit(1,1)\n",
    "# qc.h(0)\n",
    "# qc.z(0)\n",
    "# qc.h(0)\n",
    "# qc.measure(0,0)"
   ]
  },
  {
   "cell_type": "code",
   "execution_count": 15,
   "id": "6f8dfba7",
   "metadata": {},
   "outputs": [
    {
     "data": {
      "image/png": "[encoded data removed]",
      "text/plain": [
       "<Figure size 314.126x144.48 with 1 Axes>"
      ]
     },
     "execution_count": 15,
     "metadata": {},
     "output_type": "execute_result"
    }
   ],
   "source": [
    "qc12 = QuantumCircuit(1,1)\n",
    "#I'd say first option! Because T gate is equivalent to sqrt(S).  \n",
    "\n",
    "qc12.draw('mpl')"
   ]
  },
  {
   "cell_type": "markdown",
   "id": "7f1cc04b",
   "metadata": {},
   "source": [
    "#### 13. Given the following code, what is the depth of the circuit?"
   ]
  },
  {
   "cell_type": "code",
   "execution_count": 19,
   "id": "77f054bd",
   "metadata": {},
   "outputs": [
    {
     "name": "stdout",
     "output_type": "stream",
     "text": [
      "2\n"
     ]
    }
   ],
   "source": [
    "qc13 = QuantumCircuit(2, 2) \n",
    "qc13.h(0) \n",
    "qc13.barrier(0) \n",
    "qc13.cx(0,1) \n",
    "qc13.barrier([0,1])\n",
    "\n",
    "qc13.draw('mpl')\n",
    "print(qc13.depth())"
   ]
  },
  {
   "cell_type": "code",
   "execution_count": 20,
   "id": "23da63aa",
   "metadata": {},
   "outputs": [],
   "source": [
    "# A. 2\n",
    "# B. 3\n",
    "# C. 4\n",
    "# D. 5\n",
    "\n",
    "# The correct answer is A) 2"
   ]
  },
  {
   "cell_type": "markdown",
   "id": "e4daad4e",
   "metadata": {},
   "source": [
    "#### 14. Which code snippet would execute a circuit given these parameters?"
   ]
  },
  {
   "cell_type": "code",
   "execution_count": null,
   "id": "c1c8da59",
   "metadata": {},
   "outputs": [],
   "source": [
    "# 1) • Measure the circuit 1024 times,\n",
    "# 2) • use the QASM simulator,\n",
    "# 3) • and use a coupling map that connects three qubits linearly"
   ]
  },
  {
   "cell_type": "code",
   "execution_count": null,
   "id": "05e0f625",
   "metadata": {},
   "outputs": [],
   "source": [
    "# A. qasm_sim = Aer.get_backend('qasm_simulator')\n",
    "# couple_map = [[0, 1], [1, 2]]\n",
    "# job = execute(qc, backend=qasm_sim, shots=1024, coupling_map=couple_map)\n",
    "# B. qasm_sim = Aer.getBackend('ibmq_simulator') ibmq_simulator belongs IBM Qauntum Exp.\n",
    "# couple_map = [[0, 1], [0, 2]]\n",
    "# job = execute(qc, loop=1024, coupling_map=couple_map) loop is not the parameter, it's shots\n",
    "# C. qasm_sim = Aer.get_backend('qasm_simulator')\n",
    "# couple_map = [[0, 1], [1, 2]]\n",
    "# job = execute(qc, backend=qasm_sim, repeat=1024, coupling_map=couple_map) repeat isn't the parameter. it's shots\n",
    "# D. qasm_sim = Aer.get_backend('qasm_simulator')\n",
    "# couple_map = [[0, 1], [1, 2]]\n",
    "# job = execute(backend=qasm_sim, qc, shot=1024, coupling_map=couple_map) qc must be the first parameter "
   ]
  },
  {
   "cell_type": "code",
   "execution_count": 21,
   "id": "9ee3e843",
   "metadata": {},
   "outputs": [],
   "source": [
    "qc14 = QuantumCircuit(3)\n",
    "\n",
    "qasm_sim = Aer.get_backend('qasm_simulator')\n",
    "couple_map = [[0, 1], [1, 2]]\n",
    "job = execute(qc14, backend=qasm_sim, shots=1024, coupling_map=couple_map)\n",
    "\n",
    "# the answer is A"
   ]
  },
  {
   "cell_type": "markdown",
   "id": "6b4525d8",
   "metadata": {},
   "source": [
    "#### 15. Which of these would execute a circuit on a set of qubits which are coupled in a custom way?"
   ]
  },
  {
   "cell_type": "code",
   "execution_count": 23,
   "id": "7f373742",
   "metadata": {},
   "outputs": [],
   "source": [
    "qc15 = QuantumCircuit(3)"
   ]
  },
  {
   "cell_type": "code",
   "execution_count": null,
   "id": "d877ab07",
   "metadata": {},
   "outputs": [],
   "source": [
    "# A. execute(qc, backend, shots=1024, coupling_map=[[0,1], [1,2]])\n",
    "# B. execute(qc, backend, shots=1024, custom_topology=[[0,1],[2,3]]\n",
    "# C. execute(qc, backend, shots=1024, device=\"qasm_simulator\", mode=\"custom\")\n",
    "# D. execute(qc, backend, mode=\"custom\")"
   ]
  },
  {
   "cell_type": "code",
   "execution_count": 41,
   "id": "b1176918",
   "metadata": {},
   "outputs": [],
   "source": [
    "backend = BasicAer.get_backend('qasm_simulator')\n",
    "#execute(qc15, backend, shots=1024, coupling_map=[[0,1], [1,2]])\n",
    "\n",
    "#The answer is A"
   ]
  },
  {
   "cell_type": "markdown",
   "id": "5750e147",
   "metadata": {},
   "source": [
    "#### 16. Which three simulators are available in BasicAer?"
   ]
  },
  {
   "cell_type": "code",
   "execution_count": null,
   "id": "20cb5d32",
   "metadata": {},
   "outputs": [],
   "source": [
    "# A. qasm_simulator\n",
    "# B. basic_qasm_simulator\n",
    "# C. statevector_simulator\n",
    "# D. unitary_simulator\n",
    "# E. quantum_simulator\n",
    "# F. quantum_circuit_simulator\n",
    "\n",
    "# The answer are A, C and D"
   ]
  },
  {
   "cell_type": "markdown",
   "id": "de7eab17",
   "metadata": {},
   "source": [
    "#### 17. Which line of code would assign a statevector simulator object to the variable backend ?"
   ]
  },
  {
   "cell_type": "code",
   "execution_count": 42,
   "id": "b0923e95",
   "metadata": {},
   "outputs": [],
   "source": [
    "# A. backend = BasicAer.StatevectorSimulatorPy()\n",
    "# B. backend = BasicAer.get_backend('statevector_simulator')\n",
    "# C. backend = BasicAer.StatevectorSimulatorPy().name()\n",
    "# D. backend = BasicAer.get_back('statevector_simulator')\n",
    "\n",
    "# B is the solution "
   ]
  },
  {
   "cell_type": "markdown",
   "id": "7f88980d",
   "metadata": {},
   "source": [
    "#### 18. Which code fragment would yield an operator that represents a single-qubit X gate?"
   ]
  },
  {
   "cell_type": "code",
   "execution_count": 26,
   "id": "5aff4b60",
   "metadata": {},
   "outputs": [
    {
     "name": "stdout",
     "output_type": "stream",
     "text": [
      "Operator([[0.+0.j, 1.+0.j],\n",
      "          [1.+0.j, 0.+0.j]],\n",
      "         input_dims=(2,), output_dims=(2,))\n"
     ]
    }
   ],
   "source": [
    "# A. op = Operator.Xop(0)\n",
    "# B. op = Operator([[0,1]])\n",
    "# C. qc = QuantumCircuit(1)\n",
    "# qc.x(0)\n",
    "# op = Operator(qc)\n",
    "# D. op = Operator([[1,0,0,1]])\n",
    "\n",
    "qc18 = QuantumCircuit(1)\n",
    "qc18.x(0)\n",
    "op = Operator(qc18)\n",
    "print(op)\n",
    "\n",
    "#The answer is C"
   ]
  },
  {
   "cell_type": "markdown",
   "id": "b0c51a5a",
   "metadata": {},
   "source": [
    "#### 19. What would be the fidelity result(s) for these two operators, which differ only by global phase?"
   ]
  },
  {
   "cell_type": "code",
   "execution_count": 37,
   "id": "1b9916b6",
   "metadata": {},
   "outputs": [
    {
     "name": "stdout",
     "output_type": "stream",
     "text": [
      "1.0 1.0\n"
     ]
    }
   ],
   "source": [
    "op_a = Operator(XGate()) \n",
    "op_b = numpy.exp(1j * 0.5) * Operator(XGate())\n",
    "\n",
    "# A. state_fidelity() of 1.0\n",
    "# B. state_fidelity() and average_gate_fidelity() of 1.0\n",
    "# C. average_gate_fidelity() and process_fidelity() of 1.0\n",
    "# D. state_fidelity(), average_gate_fidelity() and process_fidelity() of 1.0\n",
    "\n",
    "#state_fidelity is for quantum states not for quantum operators\n",
    "\n",
    "print(average_gate_fidelity(op_a, op_b ), process_fidelity(op_a, op_b ) )\n",
    "\n",
    "# the answer is C"
   ]
  },
  {
   "cell_type": "markdown",
   "id": "55251906",
   "metadata": {},
   "source": [
    "#### 20. Given this code fragment, which output fits most closely with the measurement probability distribution?"
   ]
  },
  {
   "cell_type": "code",
   "execution_count": 40,
   "id": "bc7ad1cf",
   "metadata": {},
   "outputs": [
    {
     "name": "stdout",
     "output_type": "stream",
     "text": [
      "{'01': 1000}\n"
     ]
    },
    {
     "data": {
      "image/png": "[encoded data removed]",
      "text/plain": [
       "<Figure size 206.852x204.68 with 1 Axes>"
      ]
     },
     "execution_count": 40,
     "metadata": {},
     "output_type": "execute_result"
    }
   ],
   "source": [
    "# A. {'00': 1000}\n",
    "# B. {'01': 1000}\n",
    "# C. {'10': 1000}\n",
    "# D. {'11': 1000}\n",
    "\n",
    "\n",
    "qc20 = QuantumCircuit(2, 2) \n",
    "qc20.x(0)\n",
    "qc20.measure([0,1], [0,1]) \n",
    "simulator = Aer.get_backend('qasm_simulator') \n",
    "result = execute(qc20, simulator, shots=1000).result() \n",
    "counts = result.get_counts(qc20) \n",
    "print(counts)\n",
    "\n",
    "qc20.draw('mpl')\n",
    "\n",
    "\n",
    "#The answer is B"
   ]
  },
  {
   "cell_type": "code",
   "execution_count": 47,
   "id": "49b4f40a",
   "metadata": {},
   "outputs": [
    {
     "name": "stdout",
     "output_type": "stream",
     "text": [
      "3\n"
     ]
    },
    {
     "data": {
      "image/png": "[encoded data removed]",
      "text/plain": [
       "<Figure size 274.78x204.68 with 1 Axes>"
      ]
     },
     "execution_count": 47,
     "metadata": {},
     "output_type": "execute_result"
    }
   ],
   "source": [
    "from qiskit import QuantumCircuit, QuantumRegister\n",
    "\n",
    "# main circuit\n",
    "register = QuantumRegister(3, name = 'register')\n",
    "qc = QuantumCircuit(register)\n",
    "\n",
    "qc.h(register[0])\n",
    "qc.x(register[1])\n",
    "\n",
    "# gate circuit to append\n",
    "register_gate = QuantumRegister(3, name = 'register_gate')\n",
    "gate_circuit = QuantumCircuit(register_gate)\n",
    "\n",
    "gate_circuit.h(register_gate[1])\n",
    "gate_circuit.cx(register_gate[0], register_gate[1])\n",
    "\n",
    "# convert the circuit into gate\n",
    "gate = gate_circuit.to_gate(label='test')\n",
    "\n",
    "# mix both circuit\n",
    "qc.append(gate, register[:])\n",
    "\n",
    "\n",
    "# get the number of gates\n",
    "print(qc.size())\n",
    "\n",
    "qc.draw('mpl')"
   ]
  },
  {
   "cell_type": "code",
   "execution_count": null,
   "id": "d52e063b",
   "metadata": {},
   "outputs": [],
   "source": []
  }
 ],
 "metadata": {
  "kernelspec": {
   "display_name": "Python 3",
   "language": "python",
   "name": "python3"
  },
  "language_info": {
   "codemirror_mode": {
    "name": "ipython",
    "version": 3
   },
   "file_extension": ".py",
   "mimetype": "text/x-python",
   "name": "python",
   "nbconvert_exporter": "python",
   "pygments_lexer": "ipython3",
   "version": "3.8.12"
  }
 },
 "nbformat": 4,
 "nbformat_minor": 5
}
